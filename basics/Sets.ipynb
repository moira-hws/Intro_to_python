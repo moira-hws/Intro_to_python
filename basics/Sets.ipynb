{
  "nbformat": 4,
  "nbformat_minor": 0,
  "metadata": {
    "colab": {
      "private_outputs": true,
      "provenance": [],
      "authorship_tag": "ABX9TyNDHVHu0HZBRys39yZpec16",
      "include_colab_link": true
    },
    "kernelspec": {
      "name": "python3",
      "display_name": "Python 3"
    },
    "language_info": {
      "name": "python"
    }
  },
  "cells": [
    {
      "cell_type": "markdown",
      "metadata": {
        "id": "view-in-github",
        "colab_type": "text"
      },
      "source": [
        "<a href=\"https://colab.research.google.com/github/moira-hws/Intro_to_python/blob/main/basics/Sets.ipynb\" target=\"_parent\"><img src=\"https://colab.research.google.com/assets/colab-badge.svg\" alt=\"Open In Colab\"/></a>"
      ]
    },
    {
      "cell_type": "markdown",
      "source": [
        "## Overview of sets\n",
        "\n",
        "Like lists and tuples, sets can be used to represent multiple items as one variable.\n",
        "\n",
        "Sets are assigned using curly brackets.\n",
        "\n",
        "Unlike lists and tuples, they are unordered, so their items cannot be accessed via indexing.  When viewing a set the items may appear in different places each time."
      ],
      "metadata": {
        "id": "oUGN4xDKw_dg"
      }
    },
    {
      "cell_type": "code",
      "execution_count": null,
      "metadata": {
        "id": "_9B3M9Qrw9zo"
      },
      "outputs": [],
      "source": [
        "my_set = {\"red\", \"orange\", \"yellow\"} # example set\n",
        "\n",
        "print(my_set) # run this chunk a few times to see how the item order changes"
      ]
    },
    {
      "cell_type": "markdown",
      "source": [
        "Use the set() constructor to convert other data collection types to sets:"
      ],
      "metadata": {
        "id": "eu6wNL2bm3ig"
      }
    },
    {
      "cell_type": "code",
      "source": [
        "my_tuple = (\"blue\", \"indigo\", \"purple\")\n",
        "\n",
        "my_t_set = set(my_tuple)\n",
        "\n",
        "print(type(my_t_set))"
      ],
      "metadata": {
        "id": "-a29sh4Bm-hl"
      },
      "execution_count": null,
      "outputs": []
    },
    {
      "cell_type": "markdown",
      "source": [
        "Sets don't permit duplicates, so if your assigned set includes them, they'll be ignored.  Furthermore, 1 and \"True\" and 0 and \"False\" are read as equivalent and will each only appear once in the printed set."
      ],
      "metadata": {
        "id": "Bt7Py0eQdydk"
      }
    },
    {
      "cell_type": "code",
      "source": [
        "my_set = {\"red\", \"yellow\", \"orange\", \"yellow\", \"red\", 1, True, 0, False} # example set with dupes\n",
        "\n",
        "print(my_set) # run this chunk to see how the program deletes duplicate items\n",
        "\n",
        "len(my_set) # use the len() function to see how the set is automatically trimmed"
      ],
      "metadata": {
        "id": "6Ub2Bl_odyEB"
      },
      "execution_count": null,
      "outputs": []
    },
    {
      "cell_type": "markdown",
      "source": [
        "## Adding and removing items from sets\n",
        "\n",
        "Existing set values are immutable, but we can add elements using the following functions:\n",
        "\n",
        "*   add()\n",
        "*   update()"
      ],
      "metadata": {
        "id": "5FyFXP-qdQiz"
      }
    },
    {
      "cell_type": "code",
      "source": [
        "my_set.add(\"green\") # add green directly\n",
        "\n",
        "my_set.update(my_t_set) # add the items from the tuple-cum-set my_t_set above\n",
        "\n",
        "print(my_set)"
      ],
      "metadata": {
        "id": "DoXaf2h6mDx-"
      },
      "execution_count": null,
      "outputs": []
    },
    {
      "cell_type": "markdown",
      "source": [
        "And we can remove specific set items using these:\n",
        "\n",
        "*   remove()\n",
        "*   discard()"
      ],
      "metadata": {
        "id": "8Y6yfukVn02S"
      }
    },
    {
      "cell_type": "code",
      "source": [
        "my_set.discard(True) # remove True and 1\n",
        "\n",
        "for i in my_t_set:\n",
        "  my_set.remove(i) # use a for loop to remove the items from the tuple set from above\n",
        "\n",
        "print(my_set)"
      ],
      "metadata": {
        "id": "dbZcqla_oaGg"
      },
      "execution_count": null,
      "outputs": []
    },
    {
      "cell_type": "markdown",
      "source": [
        "We can also drop random values using pop():"
      ],
      "metadata": {
        "id": "NMzbhm4uqj_D"
      }
    },
    {
      "cell_type": "code",
      "source": [
        "my_set.pop()\n",
        "\n",
        "print(my_set)"
      ],
      "metadata": {
        "id": "lQLGF-B1qoML"
      },
      "execution_count": null,
      "outputs": []
    },
    {
      "cell_type": "markdown",
      "source": [
        "## Joining sets"
      ],
      "metadata": {
        "id": "NCkK7NcMrIX-"
      }
    },
    {
      "cell_type": "markdown",
      "source": [
        "There are a few other ways to add items to a set:\n",
        "\n",
        "*   union() joins multiple sets together\n",
        "*   the | and & operators\n",
        "*   intersection() returns a set containing the shared items in two sets\n",
        "*   difference() returns a set containing the unique items in one set\n",
        "*   symmetric_difference() returns a set containing elements from both sets that are not present in the other (everything outside of their union)\n",
        "\n",
        "\n",
        "\n",
        "\n",
        "\n"
      ],
      "metadata": {
        "id": "02CufIMYrWEZ"
      }
    },
    {
      "cell_type": "code",
      "source": [
        "my_set.union(my_t_set) # combine the two sets again\n",
        "\n",
        "my_new_set = {\"pink\", \"chartreuse\"} # add a new set to play with\n",
        "\n",
        "my_set = my_set | my_new_set # add new set to existing\n",
        "\n",
        "my_set_new_set = my_set.intersection(my_new_set) # identify shared values (should just be the values in the \"my_new_set\")\n",
        "\n",
        "my_set_diff = my_set.difference(my_t_set) # identify my_set values that don't appear in my_t_set (should just be the values in \"my_t_set\")\n",
        "\n",
        "my_set_symm_diff = my_set.symmetric_difference(my_t_set)\n",
        "\n",
        "print(\"Intersection of 'my_set' and 'my_new_set':\", my_set_new_set)\n",
        "\n",
        "print(\"Difference between 'my_set' and 'my_t_set':\", my_set_diff)\n",
        "\n",
        "print(\"Symmetric difference between 'my_set' and 'my_t_set':\", my_set_symm_diff)"
      ],
      "metadata": {
        "id": "mEVrTd9NrVoD"
      },
      "execution_count": null,
      "outputs": []
    }
  ]
}