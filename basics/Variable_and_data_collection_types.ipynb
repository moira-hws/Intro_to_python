{
  "nbformat": 4,
  "nbformat_minor": 0,
  "metadata": {
    "colab": {
      "provenance": [],
      "authorship_tag": "ABX9TyN2iJfI64JD+FsSiEKaLh5Z",
      "include_colab_link": true
    },
    "kernelspec": {
      "name": "python3",
      "display_name": "Python 3"
    },
    "language_info": {
      "name": "python"
    }
  },
  "cells": [
    {
      "cell_type": "markdown",
      "metadata": {
        "id": "view-in-github",
        "colab_type": "text"
      },
      "source": [
        "<a href=\"https://colab.research.google.com/github/moira-hws/Intro_to_python/blob/main/basics/Variable_and_data_collection_types.ipynb\" target=\"_parent\"><img src=\"https://colab.research.google.com/assets/colab-badge.svg\" alt=\"Open In Colab\"/></a>"
      ]
    },
    {
      "cell_type": "markdown",
      "source": [
        "## Variable names\n",
        "\n",
        "Variable names should be both descriptive and short.  For example, a variable representing a street named Martin Luther King Blvd in Rochester, NY should be named something like mlk_blvd.  In Python, people use the equal sign (=) to assign variable names."
      ],
      "metadata": {
        "id": "dVPU61LpvdTi"
      }
    },
    {
      "cell_type": "code",
      "source": [
        "# lines (or parts of lines) beginning with a hashtag are not part of the code itself, but are used to add explanatory \"comments\"\n",
        "\n",
        "# street name examples:\n",
        "mlk_blvd = \"Martin Luther King Blvd\"\n",
        "main_st = \"Main St\"\n",
        "park_ave = \"Park Ave\""
      ],
      "metadata": {
        "id": "5XiJaq0ovbKb"
      },
      "execution_count": null,
      "outputs": []
    },
    {
      "cell_type": "markdown",
      "source": [
        "Note the underscore in the variables named above, which exists because variable names cannot have spaces.\n",
        "\n",
        "Note, too, that Python is a case-sensitive programming language.  This means a computer would recognize mlk_blvd, MLK_blvd, and MLK_BLVD as different variables.\n"
      ],
      "metadata": {
        "id": "UVKSjME3zoxd"
      }
    },
    {
      "cell_type": "markdown",
      "source": [
        "## Variable types\n",
        "\n",
        "- Text is usually saved as \"strings\", denoted **str** in Python and indicated by putting the text in quotations - just as we have done in the mlk_blvd example.\n",
        "\n",
        "- Numeric variables are more varied:\n",
        " (1) Real numbers can be integers (**int**) or decimals (**float**).\n",
        " (2) Complex numbers are of the type **complex**.  The imaginary part is denoted by the letter j.\n"
      ],
      "metadata": {
        "id": "-9WkYtlatjJN"
      }
    },
    {
      "cell_type": "code",
      "execution_count": null,
      "metadata": {
        "id": "7EyZSHnptQrC"
      },
      "outputs": [],
      "source": [
        "mlk_length = 3.4 # in miles\n",
        "mlk_stoplights = 13 # within city limits\n",
        "mlk_traffic = 5 + 3j # periodic patterns of traffic flow"
      ]
    },
    {
      "cell_type": "markdown",
      "source": [
        "*   You also have the option to assign the Boolean values True or False to variables, which have the type \"bool\":\n",
        "\n"
      ],
      "metadata": {
        "id": "P7qmOOmu4e3l"
      }
    },
    {
      "cell_type": "code",
      "source": [
        "yay = True\n",
        "nay = False"
      ],
      "metadata": {
        "id": "g8XQyIya4iV9"
      },
      "execution_count": null,
      "outputs": []
    },
    {
      "cell_type": "markdown",
      "source": [
        "To view a variable's type, use the type() function:"
      ],
      "metadata": {
        "id": "CdNtBY3gzwvQ"
      }
    },
    {
      "cell_type": "code",
      "source": [
        "type(mlk_blvd)"
      ],
      "metadata": {
        "colab": {
          "base_uri": "https://localhost:8080/"
        },
        "id": "PCNVbNGX8pi6",
        "outputId": "265bf66f-5c39-4e5d-e99d-8cda668205d8"
      },
      "execution_count": null,
      "outputs": [
        {
          "output_type": "execute_result",
          "data": {
            "text/plain": [
              "str"
            ]
          },
          "metadata": {},
          "execution_count": 6
        }
      ]
    },
    {
      "cell_type": "markdown",
      "source": [
        "To print a variable's type with a descriptive, use the syntax:"
      ],
      "metadata": {
        "id": "fU7yBG2uWaf2"
      }
    },
    {
      "cell_type": "code",
      "source": [
        "print(\"street name type: \", type(mlk_blvd))\n",
        "print(\"street length type: \", type(mlk_length))\n",
        "print(\"street stoplights type: \", type(mlk_stoplights))\n",
        "print(\"street traffic flow type: \", type(mlk_traffic))\n",
        "print(\"yay type: \", type(yay))"
      ],
      "metadata": {
        "colab": {
          "base_uri": "https://localhost:8080/"
        },
        "id": "IKi28LDEWl_m",
        "outputId": "7608d884-9c28-4820-a31a-b5582b2c5190"
      },
      "execution_count": null,
      "outputs": [
        {
          "output_type": "stream",
          "name": "stdout",
          "text": [
            "street name type:  <class 'str'>\n",
            "street length type:  <class 'float'>\n",
            "street stoplights type:  <class 'int'>\n",
            "street traffic flow type:  <class 'complex'>\n",
            "yay type:  <class 'bool'>\n"
          ]
        }
      ]
    },
    {
      "cell_type": "markdown",
      "source": [
        "To change a variable's type, wrap the variable in the type you want (e.g., str(), int(), etc.):"
      ],
      "metadata": {
        "id": "gBsBvOt7biR0"
      }
    },
    {
      "cell_type": "code",
      "source": [
        "mlk_length = int(mlk_length)\n",
        "print(\"street length type: \", type(mlk_length))"
      ],
      "metadata": {
        "colab": {
          "base_uri": "https://localhost:8080/"
        },
        "id": "vcpCdFNKbg6g",
        "outputId": "ed33e9db-3013-420a-e6c9-3a3c7d2f5722"
      },
      "execution_count": null,
      "outputs": [
        {
          "output_type": "stream",
          "name": "stdout",
          "text": [
            "street length type:  <class 'int'>\n"
          ]
        }
      ]
    }
  ]
}