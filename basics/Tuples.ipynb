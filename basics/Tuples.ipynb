{
  "nbformat": 4,
  "nbformat_minor": 0,
  "metadata": {
    "colab": {
      "private_outputs": true,
      "provenance": [],
      "authorship_tag": "ABX9TyPlCCQslzwZImbPZkv4oT+W",
      "include_colab_link": true
    },
    "kernelspec": {
      "name": "python3",
      "display_name": "Python 3"
    },
    "language_info": {
      "name": "python"
    }
  },
  "cells": [
    {
      "cell_type": "markdown",
      "metadata": {
        "id": "view-in-github",
        "colab_type": "text"
      },
      "source": [
        "<a href=\"https://colab.research.google.com/github/moira-hws/Intro_to_python/blob/main/basics/Tuples.ipynb\" target=\"_parent\"><img src=\"https://colab.research.google.com/assets/colab-badge.svg\" alt=\"Open In Colab\"/></a>"
      ]
    },
    {
      "cell_type": "markdown",
      "source": [
        "## Overview of tuples\n",
        "\n",
        "Sometimes data analysts want to assign a group of items in a single variable.  Python has several built-in ways to do this, and the \"tuple\" format is among them.\n",
        "\n",
        "Tuples are assigned using rounded brackets."
      ],
      "metadata": {
        "id": "0kEGH2bEk__F"
      }
    },
    {
      "cell_type": "code",
      "execution_count": null,
      "metadata": {
        "id": "B2IJ6Sxckyv5"
      },
      "outputs": [],
      "source": [
        "my_tuple = (\"red\", \"orange\", \"yellow\") # example tuple\n",
        "\n",
        "print(type(my_tuple)) # confirm the data type"
      ]
    },
    {
      "cell_type": "markdown",
      "source": [
        "Tuples have several defining characteristics: they are **ordered** (this order is defined at the outset), **unchangeable** (once the tuple has been created, we cannot edit, add, or remove its items while it remains a tuple), and they do **allow duplicate** values."
      ],
      "metadata": {
        "id": "9WoAmN2lm3uc"
      }
    },
    {
      "cell_type": "code",
      "source": [
        "my_tuple_d = (\"red\", \"orange\", \"red\", \"yellow\")"
      ],
      "metadata": {
        "id": "hq0AXaP6p040"
      },
      "execution_count": null,
      "outputs": []
    },
    {
      "cell_type": "markdown",
      "source": [
        "Use the len() function to identify the length of the sequence and to compare lengths of tuples."
      ],
      "metadata": {
        "id": "prgU4pA-r43p"
      }
    },
    {
      "cell_type": "code",
      "source": [
        "print(len(my_tuple))\n",
        "\n",
        "len(my_tuple) > len(my_tuple_d)"
      ],
      "metadata": {
        "id": "JzAnLiCzrt-s"
      },
      "execution_count": null,
      "outputs": []
    },
    {
      "cell_type": "markdown",
      "source": [
        "Use the tuple() function to change the datatype of a list (square brackets) to a tuple."
      ],
      "metadata": {
        "id": "bVZNyJ96tXKi"
      }
    },
    {
      "cell_type": "code",
      "source": [
        "my_list = [\"red\", \"orange\", \"yellow\"]\n",
        "\n",
        "my_new_tuple = tuple(my_list)\n",
        "\n",
        "print(type(my_new_tuple))"
      ],
      "metadata": {
        "id": "COHVfBMbs-dD"
      },
      "execution_count": null,
      "outputs": []
    },
    {
      "cell_type": "markdown",
      "source": [
        "## Accessing tuple contents\n",
        "\n",
        "Many programming languages use indexing to call items from a data collection.  Indexing just means activating an item based on its location in a series.\n",
        "\n",
        "Like Java, C++, and C#, idexing in Python begins at 0 (this is different from R, where the index begins at 1).\n",
        "\n"
      ],
      "metadata": {
        "id": "axlrdmMMFAEv"
      }
    },
    {
      "cell_type": "code",
      "source": [
        "# print the first item of the tuple\n",
        "print(my_new_tuple[0])\n",
        "\n",
        "# use negative indexing to call the second last item of the tuple\n",
        "print(my_new_tuple[-2])\n",
        "\n",
        "# use a colon to print a range\n",
        "print(my_new_tuple[0:]) # when you leave one side of the range open the program reads it as \"everything before\" or \"everything after\" the position you specify"
      ],
      "metadata": {
        "id": "92kLtoZYNxCt"
      },
      "execution_count": null,
      "outputs": []
    },
    {
      "cell_type": "markdown",
      "source": [
        "## Changing tuples\n",
        "\n",
        "While tuples are efficient and tidy for storing data, they are not editable in their standard form.\n",
        "\n",
        "To change a tuple's items, you must convert it to a list."
      ],
      "metadata": {
        "id": "Zctbe_0y_b7m"
      }
    },
    {
      "cell_type": "code",
      "source": [
        "my_tuple = (\"red\", \"orange\", \"yellow\")\n",
        "\n",
        "my_list = list(my_tuple)\n",
        "\n",
        "my_list.append(\"pink\")\n",
        "my_list.remove(\"orange\")\n",
        "\n",
        "my_pink_tuple = tuple(my_list)\n",
        "\n",
        "print(my_pink_tuple)"
      ],
      "metadata": {
        "id": "4uG42tWvRD_U"
      },
      "execution_count": null,
      "outputs": []
    },
    {
      "cell_type": "markdown",
      "source": [
        "The one exception to the tuple's immutability is that you can concatenate, or adjoin, tuples."
      ],
      "metadata": {
        "id": "rvs2Zm7ER4Dd"
      }
    },
    {
      "cell_type": "code",
      "source": [
        "my_tuple = my_tuple + my_pink_tuple\n",
        "\n",
        "print(my_tuple)"
      ],
      "metadata": {
        "id": "DtDyx4UUR2tr"
      },
      "execution_count": null,
      "outputs": []
    }
  ]
}