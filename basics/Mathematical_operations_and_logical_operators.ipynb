{
  "nbformat": 4,
  "nbformat_minor": 0,
  "metadata": {
    "colab": {
      "provenance": [],
      "authorship_tag": "ABX9TyNMnM3J55LWyDBFA60ydoSy",
      "include_colab_link": true
    },
    "kernelspec": {
      "name": "python3",
      "display_name": "Python 3"
    },
    "language_info": {
      "name": "python"
    }
  },
  "cells": [
    {
      "cell_type": "markdown",
      "metadata": {
        "id": "view-in-github",
        "colab_type": "text"
      },
      "source": [
        "<a href=\"https://colab.research.google.com/github/moira-hws/Intro_to_python/blob/main/basics/Mathematical_operations_and_logical_operators.ipynb\" target=\"_parent\"><img src=\"https://colab.research.google.com/assets/colab-badge.svg\" alt=\"Open In Colab\"/></a>"
      ]
    },
    {
      "cell_type": "markdown",
      "source": [
        "## Mathematical operations\n",
        "\n",
        "You can use Python as a calculator.  It has built-in capacity to perform arithmetic, multiplication, division, and exponentiation (among other things)."
      ],
      "metadata": {
        "id": "WmDdPE9NjSfA"
      }
    },
    {
      "cell_type": "code",
      "source": [
        "# Addition\n",
        "addition = 10 + 5\n",
        "print(\"Addition: 10 + 5 =\", addition)\n",
        "\n",
        "# Subtraction\n",
        "subtraction = 10 - 5\n",
        "print(\"Subtraction: 10 - 5 =\", subtraction)\n",
        "\n",
        "# Multiplication\n",
        "multiplication = 10 * 5\n",
        "print(\"Multiplication: 10 * 5 =\", multiplication)\n",
        "\n",
        "# Division\n",
        "division = 10 / 3\n",
        "print(\"Division: 10 / 3 =\", division)\n",
        "\n",
        "# Integer Division (floor division)\n",
        "integer_division = 10 // 3\n",
        "print(\"Integer Division: 10 // 3 =\", integer_division)\n",
        "\n",
        "# Modulus (remainder)\n",
        "modulus = 10 % 3\n",
        "print(\"Modulus: 10 % 3 =\", modulus)\n",
        "\n",
        "# Exponentiation (power)\n",
        "exponentiation = 10 ** 3\n",
        "print(\"Exponentiation: 10 ** 3 =\", exponentiation)\n",
        "\n",
        "# Absolute value (using the abs() function)\n",
        "absolute_value = abs(-10)\n",
        "print(\"Absolute value of -10 =\", absolute_value)\n"
      ],
      "metadata": {
        "colab": {
          "base_uri": "https://localhost:8080/"
        },
        "id": "auCrlVvejN-7",
        "outputId": "306a8d8c-b25a-4b10-c01e-859797898fd3"
      },
      "execution_count": null,
      "outputs": [
        {
          "output_type": "stream",
          "name": "stdout",
          "text": [
            "Addition: 10 + 5 = 15\n",
            "Subtraction: 10 - 5 = 5\n",
            "Multiplication: 10 * 5 = 50\n",
            "Division: 10 / 3 = 3.3333333333333335\n",
            "Integer Division: 10 // 3 = 3\n",
            "Modulus: 10 % 3 = 1\n",
            "Exponentiation: 10 ** 3 = 1000\n",
            "Absolute value of -10 = 10\n"
          ]
        }
      ]
    },
    {
      "cell_type": "markdown",
      "source": [
        "\n",
        "There are also several libraries that extend Python's calculator capabilities.  \"Math\" is one such supplemental program."
      ],
      "metadata": {
        "id": "Fjd2wcJoldfI"
      }
    },
    {
      "cell_type": "code",
      "source": [
        "# Square root (using the math module)\n",
        "import math\n",
        "square_root = math.sqrt(25)\n",
        "print(\"Square root of 25 =\", square_root)"
      ],
      "metadata": {
        "colab": {
          "base_uri": "https://localhost:8080/"
        },
        "id": "baQev2aolfRT",
        "outputId": "cdeebe69-50f8-4854-fc96-51fd5e354189"
      },
      "execution_count": null,
      "outputs": [
        {
          "output_type": "stream",
          "name": "stdout",
          "text": [
            "Square root of 25 = 5.0\n"
          ]
        }
      ]
    },
    {
      "cell_type": "markdown",
      "source": [
        "## Logical operators\n",
        "\n",
        "In [the notebook](https://colab.research.google.com/drive/1KG9-oMKpxh8WN_OzlDbgSwt9N7hU0ovN#scrollTo=5XiJaq0ovbKb%23offline%3Dtrue&sandboxMode=true) on variable names and types we introduced the \"Boolean\" type, which is a variable that takes on values of True or False.\n",
        "\n",
        "When we implement logic in code, we usually use 'and', 'or', 'not' operators, and a logic statement will return the Boolean values of True or False.\n",
        "\n",
        "These are the building blocks of algorithms, so it's never too early to get familiar with them.\n",
        "\n"
      ],
      "metadata": {
        "id": "J3-bMxeBgkFA"
      }
    },
    {
      "cell_type": "code",
      "execution_count": null,
      "metadata": {
        "colab": {
          "base_uri": "https://localhost:8080/"
        },
        "id": "o3_8MskkgRja",
        "outputId": "6ccc6073-5642-4ed4-c62e-20907ec8faf9"
      },
      "outputs": [
        {
          "output_type": "stream",
          "name": "stdout",
          "text": [
            "True\n",
            "True\n",
            "False\n",
            "True\n"
          ]
        }
      ],
      "source": [
        "x = 10\n",
        "y = 20\n",
        "\n",
        "# Using `and`\n",
        "five_twentyfive = (x > 5 and y < 25)\n",
        "print(five_twentyfive) # True, because both conditions are True\n",
        "\n",
        "# Using `or`\n",
        "print(x > 15 or y < 25)  # True, because at least one condition is True\n",
        "\n",
        "# Using `not`\n",
        "print(not (x > 5))  # False, because x > 5 is True, so `not` makes it False\n",
        "\n",
        "# Combining logical operators\n",
        "print((x > 5 and y < 25) or not (y == 20))  # True, because (x > 5 and y < 25) is True\n"
      ]
    },
    {
      "cell_type": "markdown",
      "source": [
        "## Find sum, min, and max\n",
        "\n",
        "Python also includes built-in functions to calculate the sum, minimum, and maximum of a group of data."
      ],
      "metadata": {
        "id": "qPfeFUhCsolj"
      }
    },
    {
      "cell_type": "code",
      "source": [
        "# create some data in a \"list\" format\n",
        "my_list = [3, 4, 5, 6]\n",
        "\n",
        "# calculate the sum\n",
        "sum_of_list = sum(my_list)\n",
        "print(\"Sum of the list:\", sum_of_list)\n",
        "\n",
        "# calculate the minimum\n",
        "min_of_list = min(my_list)\n",
        "print(\"Minimum of the list:\", min_of_list)\n",
        "\n",
        "# calculate the maximum\n",
        "max_of_list = max(my_list)\n",
        "print(\"Maximum of the list:\", max_of_list)\n"
      ],
      "metadata": {
        "colab": {
          "base_uri": "https://localhost:8080/"
        },
        "id": "6t3Ur072tS8t",
        "outputId": "c45fd30a-c7cf-4423-d57f-d0b9d2f00245"
      },
      "execution_count": null,
      "outputs": [
        {
          "output_type": "stream",
          "name": "stdout",
          "text": [
            "Sum of the list: 18\n",
            "Minimum of the list: 3\n",
            "Maximum of the list: 6\n"
          ]
        }
      ]
    }
  ]
}