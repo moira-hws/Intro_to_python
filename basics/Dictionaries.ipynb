{
  "nbformat": 4,
  "nbformat_minor": 0,
  "metadata": {
    "colab": {
      "private_outputs": true,
      "provenance": [],
      "authorship_tag": "ABX9TyN/3Tg3eh2PvSIQn0xchTTh",
      "include_colab_link": true
    },
    "kernelspec": {
      "name": "python3",
      "display_name": "Python 3"
    },
    "language_info": {
      "name": "python"
    }
  },
  "cells": [
    {
      "cell_type": "markdown",
      "metadata": {
        "id": "view-in-github",
        "colab_type": "text"
      },
      "source": [
        "<a href=\"https://colab.research.google.com/github/moira-hws/Intro_to_python/blob/main/basics/Dictionaries.ipynb\" target=\"_parent\"><img src=\"https://colab.research.google.com/assets/colab-badge.svg\" alt=\"Open In Colab\"/></a>"
      ]
    },
    {
      "cell_type": "markdown",
      "source": [
        "## Overview of dictionaries\n",
        "\n",
        "Dictionaries are an especially powerful data format because they store relationships rather than single items. In this case, the relationships are between \"keys\" (labels) and \"values\" (observations).  Thus, the items in dictionaries are known as \"key-value pairs\".\n",
        "\n",
        "Because they are identifying labels, keys are typically defined as strings.  But their associated values can be numbers, strings, Boolean values, or even pre-defined numpy arrays, tuples, sets, lists, and other dictionaries.\n",
        "\n",
        "Dictionaries are assigned using curly brackets..."
      ],
      "metadata": {
        "id": "kk6UMkS1iod7"
      }
    },
    {
      "cell_type": "code",
      "execution_count": null,
      "metadata": {
        "id": "wuPFGnu6imEe"
      },
      "outputs": [],
      "source": [
        "my_sibs = {\"Tom\": 32,\n",
        "           \"Meggie\": 37,\n",
        "           \"Eileen\": 38,\n",
        "           \"Michael\": 40}\n",
        "\n",
        "print(type(my_sibs))"
      ]
    },
    {
      "cell_type": "markdown",
      "source": [
        "...or using the dict() constructor:"
      ],
      "metadata": {
        "id": "kJrjJfjyqa6m"
      }
    },
    {
      "cell_type": "code",
      "source": [
        "their_cars = dict(accord = 2015,\n",
        "              maverick = 2023,\n",
        "              rav_4 = 2019,\n",
        "              q_5 = 2021)\n",
        "\n",
        "print(type(their_cars))"
      ],
      "metadata": {
        "id": "K_8iQrRKql8g"
      },
      "execution_count": null,
      "outputs": []
    },
    {
      "cell_type": "markdown",
      "source": [
        "To access values in the dictionary, use square brackets or the get() method:"
      ],
      "metadata": {
        "id": "wj49gLu2qzqE"
      }
    },
    {
      "cell_type": "code",
      "source": [
        "tommys_age = my_sibs[\"Tom\"]\n",
        "print(tommys_age)\n",
        "\n",
        "accord_year = their_cars.get(\"accord\")\n",
        "print(accord_year)"
      ],
      "metadata": {
        "id": "2KFFFVajrX93"
      },
      "execution_count": null,
      "outputs": []
    },
    {
      "cell_type": "markdown",
      "source": [
        "To view a dictionary's keys, use the key() method:"
      ],
      "metadata": {
        "id": "_8aL-lMuxkk3"
      }
    },
    {
      "cell_type": "code",
      "source": [
        "their_cars.keys()"
      ],
      "metadata": {
        "id": "vIAYx6GrxrTz"
      },
      "execution_count": null,
      "outputs": []
    },
    {
      "cell_type": "markdown",
      "source": [
        "To view a dictionary's values, use the values() method:"
      ],
      "metadata": {
        "id": "Or5UBGMg2Py8"
      }
    },
    {
      "cell_type": "code",
      "source": [
        "their_cars.values()"
      ],
      "metadata": {
        "id": "PFXoCBmy2UlX"
      },
      "execution_count": null,
      "outputs": []
    },
    {
      "cell_type": "markdown",
      "source": [
        "## Modifying, adding and removing values from dictionaries\n",
        "\n",
        "Dictionary values can be changed directly..."
      ],
      "metadata": {
        "id": "HK0V_taavu98"
      }
    },
    {
      "cell_type": "code",
      "source": [
        "their_cars['rav_4'] = 2020 # change rav_4 year to 2020\n",
        "their_cars.get('rav_4')"
      ],
      "metadata": {
        "id": "WyRIu1CyycDI"
      },
      "execution_count": null,
      "outputs": []
    },
    {
      "cell_type": "markdown",
      "source": [
        "Or via the update() method:"
      ],
      "metadata": {
        "id": "CnT9JovTy5RD"
      }
    },
    {
      "cell_type": "code",
      "source": [
        "their_cars.update({'rav_4': 2019})\n",
        "their_cars['rav_4']"
      ],
      "metadata": {
        "id": "AoPrZH56zFON"
      },
      "execution_count": null,
      "outputs": []
    },
    {
      "cell_type": "markdown",
      "source": [
        "Use the above to add new key-value pairs to the dictionary..."
      ],
      "metadata": {
        "id": "MHoVaolYzRIQ"
      }
    },
    {
      "cell_type": "code",
      "source": [
        "my_sibs.update({\"Max\": 5})\n",
        "my_sibs.keys()"
      ],
      "metadata": {
        "id": "RX87gP6S1BNa"
      },
      "execution_count": null,
      "outputs": []
    },
    {
      "cell_type": "markdown",
      "source": [
        "And remove key-value pairs using the pop() or popitem() function, specifying the identifying key you want to drop."
      ],
      "metadata": {
        "id": "xj2fm7iL1UG-"
      }
    },
    {
      "cell_type": "code",
      "source": [
        "my_sibs.pop(\"Max\")\n",
        "my_sibs.keys()"
      ],
      "metadata": {
        "id": "tBwVFnLg1TXX"
      },
      "execution_count": null,
      "outputs": []
    }
  ]
}