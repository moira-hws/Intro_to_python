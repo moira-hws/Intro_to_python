{
  "nbformat": 4,
  "nbformat_minor": 0,
  "metadata": {
    "colab": {
      "private_outputs": true,
      "provenance": [],
      "authorship_tag": "ABX9TyP6buybHpvB6o30xqUkIfWq",
      "include_colab_link": true
    },
    "kernelspec": {
      "name": "python3",
      "display_name": "Python 3"
    },
    "language_info": {
      "name": "python"
    }
  },
  "cells": [
    {
      "cell_type": "markdown",
      "metadata": {
        "id": "view-in-github",
        "colab_type": "text"
      },
      "source": [
        "<a href=\"https://colab.research.google.com/github/moira-hws/Intro_to_python/blob/main/basics/Lists.ipynb\" target=\"_parent\"><img src=\"https://colab.research.google.com/assets/colab-badge.svg\" alt=\"Open In Colab\"/></a>"
      ]
    },
    {
      "cell_type": "markdown",
      "source": [
        "## Overview of lists\n",
        "\n",
        "Lists are essential in Python programming.  Like tuples, they are used to store ordered values and permit duplicates.  But unlike tuples, they are changeable.  This makes them more flexible, and therefore more useful, for many tasks.\n",
        "\n",
        "Lists are assigned using square brackets or by applying the list() function to another collection of data.  Though the list items themselves don't have to be of the same variable type (i.e., string or integer or Boolean), if you want to operate on the list items they usually need to have the same type."
      ],
      "metadata": {
        "id": "O5zndouICPed"
      }
    },
    {
      "cell_type": "code",
      "execution_count": null,
      "metadata": {
        "id": "1fFFVtPICMUq"
      },
      "outputs": [],
      "source": [
        "my_list = [\"red\", 3, 4.5, True] # example list\n",
        "\n",
        "my_tuple = (\"red\", \"orange\", \"yellow\") # example tuple\n",
        "\n",
        "my_t_list = list(my_tuple) # convert to list\n",
        "\n",
        "print(type(my_list)) # confirm the data type for the bracketed list\n",
        "\n",
        "print(type(my_t_list)) # confirm the data type for the list created from the list() function"
      ]
    },
    {
      "cell_type": "markdown",
      "source": [
        "Use the len() function to determine the number of items in the list."
      ],
      "metadata": {
        "id": "NPG5-1YEPewR"
      }
    },
    {
      "cell_type": "code",
      "source": [
        "len(my_list)"
      ],
      "metadata": {
        "id": "B6ALUIohblss"
      },
      "execution_count": null,
      "outputs": []
    },
    {
      "cell_type": "markdown",
      "source": [
        "## Accessing list contents\n",
        "\n",
        "To select a single item, use indexing.  Remember indexes in Python begin with 0."
      ],
      "metadata": {
        "id": "lcLrc80HSyTj"
      }
    },
    {
      "cell_type": "code",
      "source": [
        "print(type(my_list[0])) # determine data type for first value\n",
        "\n",
        "print(type(my_list[3])) # determine data type for fourth value"
      ],
      "metadata": {
        "id": "X1Lo8ebAQdtE"
      },
      "execution_count": null,
      "outputs": []
    },
    {
      "cell_type": "markdown",
      "source": [
        "Remember, too, that it's possible to call a list item using \"negative\" indexing (i.e., by counting backwards from the last item)."
      ],
      "metadata": {
        "id": "DjyshKQaUW0S"
      }
    },
    {
      "cell_type": "code",
      "source": [
        "print(my_list[-1]) # print fourth value, should be the boolean True"
      ],
      "metadata": {
        "id": "crL3_HMXU9t6"
      },
      "execution_count": null,
      "outputs": []
    },
    {
      "cell_type": "markdown",
      "source": [
        "Select multiple list items by using a colon flanked by the range indices.  If you leave one side of the colon open, you can select everything up to (blank on the left) or everything following (blank on the right) a given index location, exclusive of the specified start or end locations."
      ],
      "metadata": {
        "id": "j8DpjUk3UJjD"
      }
    },
    {
      "cell_type": "code",
      "source": [
        "print(my_list[1:3]) # print second through third values\n",
        "\n",
        "print(my_list[:3]) # print everything up to the fourth value\n",
        "\n",
        "print(my_list[1:]) # print everything after the second value"
      ],
      "metadata": {
        "id": "d7-sNqeDUI0E"
      },
      "execution_count": null,
      "outputs": []
    },
    {
      "cell_type": "markdown",
      "source": [
        "## Adding and removing items from lists\n",
        "\n",
        "There are several methods for **adding** items from a list:\n",
        "\n",
        "\n",
        "*   append() adds one or more items to the end of the list\n",
        "*   insert() places a new item at a specified location\n",
        "*   extend() allows a programmer to append elements from another list to the end of the current list\n",
        "\n",
        "\n"
      ],
      "metadata": {
        "id": "65WZaUJGbPdy"
      }
    },
    {
      "cell_type": "code",
      "source": [
        "my_list.append(1+2j) # add a complex number to the end of the list\n",
        "\n",
        "my_list.insert(2, False) # add the boolean value False after the second item\n",
        "\n",
        "my_list.extend(my_t_list) # extend my list with the values from my_t_list\n",
        "\n",
        "print(my_list) # view the updated contents of my_list"
      ],
      "metadata": {
        "id": "R91WVRkjiGF6"
      },
      "execution_count": null,
      "outputs": []
    },
    {
      "cell_type": "markdown",
      "source": [
        "There are also a few methods for **removing** items from a list:\n",
        "\n",
        "*   remove() removes the item you define\n",
        "*   pop() removes the item in the specified index, or if nothing is specified, removes the last item\n",
        "*   del deletes the entire list\n",
        "*   clear() empties the list's contents\n",
        "\n",
        "You can also just reassign the variable as a portion of the list.\n",
        "\n",
        "\n",
        "\n",
        "\n",
        "\n"
      ],
      "metadata": {
        "id": "oWL1vvYnbOCV"
      }
    },
    {
      "cell_type": "code",
      "source": [
        "my_list.remove(1+2j) # remove the complex number\n",
        "\n",
        "my_list.pop(2) # remove the boolean \"False\"\n",
        "\n",
        "my_list = my_list[:4] # clip the extended values\n",
        "\n",
        "my_list # should be left with the original list from the first chunk in this notebook"
      ],
      "metadata": {
        "id": "wbTTlUk7k7sl"
      },
      "execution_count": null,
      "outputs": []
    },
    {
      "cell_type": "markdown",
      "source": [
        "## Sorting and joining lists\n",
        "\n",
        "For lists comprised of all strings or all numbers, use the sort() function to reorder the list alphabetically or numerically.  The default setting here is by ascending order; to sort the list by descending order, use the argument \"reverse = True\"."
      ],
      "metadata": {
        "id": "oY5CvhjArf-F"
      }
    },
    {
      "cell_type": "code",
      "source": [
        "alpha_list = [\"red\", \"orange\", \"yellow\", \"green\", \"blue\", \"purple\"] # create list of string values\n",
        "\n",
        "num_list = [6, 3, 8, 7, 9, 2, 4, 5, 1] # create list of numbers\n",
        "\n",
        "alpha_list.sort() # sort alphabetically\n",
        "\n",
        "num_list.sort(reverse = True) # sort in descending order\n",
        "\n",
        "print(alpha_list) # view results\n",
        "print(num_list) # view results"
      ],
      "metadata": {
        "id": "pq2Oqzlss3Iy"
      },
      "execution_count": null,
      "outputs": []
    },
    {
      "cell_type": "markdown",
      "source": [
        "Joining, or \"concatenating\" lists in Python can be as simple as adding them together using the + operator.  This is an easier method than using the append() or extend() approaches described above, though we will see how the others are more useful during iterative tasks."
      ],
      "metadata": {
        "id": "BHtlaMRcuQJf"
      }
    },
    {
      "cell_type": "code",
      "source": [
        "alpha_numeric = alpha_list + num_list\n",
        "print(alpha_numeric) # view results"
      ],
      "metadata": {
        "id": "sMQf--iqu6U8"
      },
      "execution_count": null,
      "outputs": []
    }
  ]
}